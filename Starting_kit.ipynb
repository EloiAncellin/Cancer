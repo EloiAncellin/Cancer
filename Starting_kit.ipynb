{
 "metadata": {
  "language_info": {
   "codemirror_mode": {
    "name": "ipython",
    "version": 3
   },
   "file_extension": ".py",
   "mimetype": "text/x-python",
   "name": "python",
   "nbconvert_exporter": "python",
   "pygments_lexer": "ipython3",
   "version": "3.7.6-final"
  },
  "orig_nbformat": 2,
  "kernelspec": {
   "name": "python3",
   "display_name": "Python 3"
  }
 },
 "nbformat": 4,
 "nbformat_minor": 2,
 "cells": [
  {
   "source": [
    "# Cancer prediction - starting_kit\n",
    "This notebook can be consulted as an HTML page following this link.\n",
    "\n",
    "\n",
    "This notebook aims at defining the theoretical understanding of cancer prediction and its correlation with genes. \n",
    "\n",
    "In addition to the medical knowldege, the data set which will be used will also be presented and illustrated. \n",
    "\n",
    "Last, an initial machine learning example will be provided in order to initiate your contribution to the challenge by proving you with an basic working solution.\n",
    "\n",
    "\n"
   ],
   "cell_type": "markdown",
   "metadata": {}
  },
  {
   "source": [
    "In 2018 there have been 18million new cases of cancer and 10 millions death. About 20% of men will have a cancer and 17% of the woman. 1 man over 8 will die of cancer and 1 woman over 11.\n",
    "Living with a cancer five year after its diagnosis is called prevalence. 50 million in the world are in this case.\n",
    "\n",
    "The rise of cancer in our societies has multiple origins : demographic growth, the ageing of the population, social and economical factors. The type of cancers shifts with the development of countries from cancers linked to poverty to cancers associated with industrialized way of life. \n",
    "\n",
    "Europe concentrates 23.4% of the cancers and 20.3% of the death due to cancer even though it only represents 9% of the worldwide population. United States and Canada together count for 21% of the cancer cases, 14% of the death with 13.3% of the population. \n",
    "\n",
    "\n",
    "A cancer is caused by a mutation of the DNA, thus, the cell’s reproduction becomes out of control. Many mutation can have the same effect, resulting in many different types of cancer. That is why cancer cannot can be cured as simply as other pathologies. \n",
    "\n",
    "One of the major aspects of treating a cancer is detecting is, knowing which mutation of the DNA it is, what are the specific consequences of those mutations on the cells which then gives the doctor an indication about how to treat it. \n"
   ],
   "cell_type": "markdown",
   "metadata": {}
  },
  {
   "cell_type": "code",
   "execution_count": 6,
   "metadata": {},
   "outputs": [],
   "source": [
    "import pandas as pd"
   ]
  },
  {
   "cell_type": "code",
   "execution_count": 8,
   "metadata": {},
   "outputs": [
    {
     "output_type": "execute_result",
     "data": {
      "text/plain": [
       "                                                    cases  \\\n",
       "364783  [{'case_id': '6375cc59-6cd1-4b1e-8de1-510841c3...   \n",
       "364784  [{'case_id': 'c5e9a845-e0ff-4612-aa8e-c3100985...   \n",
       "364785  [{'case_id': '6796ddd8-0295-4965-911c-d4ad6723...   \n",
       "364786  [{'case_id': '3092d72b-75b1-4ae2-ac38-d4c1cd37...   \n",
       "364787  [{'case_id': 'd7fc5874-8ae0-4357-9d8d-01af39ee...   \n",
       "\n",
       "                                                file_name     file_size  \\\n",
       "364783  8fc40e41-836c-43a0-82bf-d7720cfc90ce.wxs.aliqu...        138905   \n",
       "364784  cea2b1aa-3647-41d7-aa27-14872d8176c9.wxs.VarSc...        316106   \n",
       "364785  d05587fc-9376-4ace-a5b6-18f87b2a1d3d_wxs_gdc_r...   25312786316   \n",
       "364786  6c634c1e-edca-45b8-8f34-848e08edf413.wxs.pinde...         23818   \n",
       "364787  606b6192-4b3b-4dc4-a324-6d9bd853c3d8_wgs_gdc_r...  104421906052   \n",
       "\n",
       "       data_format      access                data_category annotations  \n",
       "364783         MAF  controlled  Simple Nucleotide Variation         NaN  \n",
       "364784         VCF  controlled  Simple Nucleotide Variation         NaN  \n",
       "364785         BAM  controlled             Sequencing Reads         NaN  \n",
       "364786         VCF  controlled  Simple Nucleotide Variation         NaN  \n",
       "364787         BAM  controlled             Sequencing Reads         NaN  "
      ],
      "text/html": "<div>\n<style scoped>\n    .dataframe tbody tr th:only-of-type {\n        vertical-align: middle;\n    }\n\n    .dataframe tbody tr th {\n        vertical-align: top;\n    }\n\n    .dataframe thead th {\n        text-align: right;\n    }\n</style>\n<table border=\"1\" class=\"dataframe\">\n  <thead>\n    <tr style=\"text-align: right;\">\n      <th></th>\n      <th>cases</th>\n      <th>file_name</th>\n      <th>file_size</th>\n      <th>data_format</th>\n      <th>access</th>\n      <th>data_category</th>\n      <th>annotations</th>\n    </tr>\n  </thead>\n  <tbody>\n    <tr>\n      <th>364783</th>\n      <td>[{'case_id': '6375cc59-6cd1-4b1e-8de1-510841c3...</td>\n      <td>8fc40e41-836c-43a0-82bf-d7720cfc90ce.wxs.aliqu...</td>\n      <td>138905</td>\n      <td>MAF</td>\n      <td>controlled</td>\n      <td>Simple Nucleotide Variation</td>\n      <td>NaN</td>\n    </tr>\n    <tr>\n      <th>364784</th>\n      <td>[{'case_id': 'c5e9a845-e0ff-4612-aa8e-c3100985...</td>\n      <td>cea2b1aa-3647-41d7-aa27-14872d8176c9.wxs.VarSc...</td>\n      <td>316106</td>\n      <td>VCF</td>\n      <td>controlled</td>\n      <td>Simple Nucleotide Variation</td>\n      <td>NaN</td>\n    </tr>\n    <tr>\n      <th>364785</th>\n      <td>[{'case_id': '6796ddd8-0295-4965-911c-d4ad6723...</td>\n      <td>d05587fc-9376-4ace-a5b6-18f87b2a1d3d_wxs_gdc_r...</td>\n      <td>25312786316</td>\n      <td>BAM</td>\n      <td>controlled</td>\n      <td>Sequencing Reads</td>\n      <td>NaN</td>\n    </tr>\n    <tr>\n      <th>364786</th>\n      <td>[{'case_id': '3092d72b-75b1-4ae2-ac38-d4c1cd37...</td>\n      <td>6c634c1e-edca-45b8-8f34-848e08edf413.wxs.pinde...</td>\n      <td>23818</td>\n      <td>VCF</td>\n      <td>controlled</td>\n      <td>Simple Nucleotide Variation</td>\n      <td>NaN</td>\n    </tr>\n    <tr>\n      <th>364787</th>\n      <td>[{'case_id': 'd7fc5874-8ae0-4357-9d8d-01af39ee...</td>\n      <td>606b6192-4b3b-4dc4-a324-6d9bd853c3d8_wgs_gdc_r...</td>\n      <td>104421906052</td>\n      <td>BAM</td>\n      <td>controlled</td>\n      <td>Sequencing Reads</td>\n      <td>NaN</td>\n    </tr>\n  </tbody>\n</table>\n</div>"
     },
     "metadata": {},
     "execution_count": 8
    }
   ],
   "source": [
    "df = pd.read_json('/Users/mathieujuttet/Travail/4-M2 Data Science/3-P1/8-Data Camp/2-Projet en groupe/Cancer/Data/files.2020-11-19.json')\n",
    "df.tail()"
   ]
  },
  {
   "cell_type": "code",
   "execution_count": null,
   "metadata": {},
   "outputs": [],
   "source": []
  }
 ]
}